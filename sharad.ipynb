{
 "cells": [
  {
   "cell_type": "code",
   "execution_count": 20,
   "metadata": {},
   "outputs": [
    {
     "name": "stdout",
     "output_type": "stream",
     "text": [
      "{'user': 'postgres', 'channel_binding': 'prefer', 'dbname': 'postgres', 'host': 'localhost', 'port': '5432', 'options': '', 'sslmode': 'prefer', 'sslcompression': '0', 'sslcertmode': 'allow', 'sslsni': '1', 'ssl_min_protocol_version': 'TLSv1.2', 'gssencmode': 'disable', 'krbsrvname': 'postgres', 'gssdelegation': '0', 'target_session_attrs': 'any', 'load_balance_hosts': 'disable'} \n",
      "\n",
      "You are connected to -  ('PostgreSQL 16.3, compiled by Visual C++ build 1938, 64-bit',) \n",
      "\n"
     ]
    }
   ],
   "source": [
    "import psycopg2\n",
    "\n",
    "try:\n",
    "    connection = psycopg2.connect(\n",
    "        host=\"localhost\",     \n",
    "        database=\"postgres\",   \n",
    "        user=\"postgres\",  \n",
    "        password=\"Sharad@2001\",  \n",
    "        port=\"5432\"       \n",
    "    )\n",
    "\n",
    "    cursor = connection.cursor()\n",
    "    print(connection.get_dsn_parameters(), \"\\n\")\n",
    "    cursor.execute(\"SELECT version();\")\n",
    "    db_version = cursor.fetchone()\n",
    "    print(\"You are connected to - \", db_version, \"\\n\")\n",
    "except (Exception, psycopg2.Error) as error:\n",
    "    print(\"Error while connecting to PostgreSQL\", error)\n"
   ]
  },
  {
   "cell_type": "code",
   "execution_count": 21,
   "metadata": {},
   "outputs": [
    {
     "name": "stdout",
     "output_type": "stream",
     "text": [
      "Tables in the database:\n",
      "cars\n",
      "students\n",
      "chatbot_data\n",
      "student\n",
      "employeeproject\n",
      "employeeproject1\n",
      "employeeproject2\n",
      "faculty_info\n",
      "staff\n",
      "payment\n",
      "employee\n",
      "department\n",
      "loan\n",
      "borrower\n",
      "emp\n",
      "dept\n",
      "student_trigger\n",
      "office_branch\n",
      "notifications\n",
      "employees\n",
      "salary_increases\n",
      "emp1\n"
     ]
    }
   ],
   "source": [
    "\n",
    "cursor = connection.cursor()\n",
    "cursor.execute(\"\"\"\n",
    "    SELECT table_name \n",
    "    FROM information_schema.tables\n",
    "    WHERE table_schema = 'public'\n",
    "\"\"\")\n",
    "\n",
    "tables = cursor.fetchall()\n",
    "print(\"Tables in the database:\")\n",
    "for table in tables:\n",
    "    print(table[0])\n",
    "\n"
   ]
  },
  {
   "cell_type": "code",
   "execution_count": 22,
   "metadata": {},
   "outputs": [
    {
     "name": "stdout",
     "output_type": "stream",
     "text": [
      "   loanid branch  amount\n",
      "0       1     B1   15000\n",
      "1       2     B2   10000\n",
      "2       3     B3   20000\n",
      "3       4     B4  100000\n",
      "4       5     B5  150000\n",
      "5       6     B6   50000\n",
      "6       7     B7   35000\n",
      "7       8     B8   85000\n"
     ]
    }
   ],
   "source": [
    "import pandas as pd\n",
    "table_name='loan'\n",
    "query=f\"SELECT *FROM {table_name};\"\n",
    "cursor.execute(query)\n",
    "rows=cursor.fetchall()\n",
    "columns=[desc[0] for desc in cursor.description]\n",
    "df=pd.DataFrame(rows,columns=columns)\n",
    "print(df)"
   ]
  },
  {
   "cell_type": "code",
   "execution_count": 23,
   "metadata": {},
   "outputs": [
    {
     "name": "stdout",
     "output_type": "stream",
     "text": [
      "   eid ename  esalary\n",
      "0    1     A       50\n",
      "1    2     B       60\n",
      "2    3     C       70\n"
     ]
    }
   ],
   "source": [
    "table_name='emp'\n",
    "query=f\"SELECT *FROM {table_name};\"\n",
    "cursor.execute(query)\n",
    "rows=cursor.fetchall()\n",
    "columns=[desc[0] for desc in cursor.description]\n",
    "df=pd.DataFrame(rows,columns=columns)\n",
    "print(df)"
   ]
  },
  {
   "cell_type": "code",
   "execution_count": 24,
   "metadata": {},
   "outputs": [
    {
     "name": "stdout",
     "output_type": "stream",
     "text": [
      "   custid        custname  loanid\n",
      "0       8  Sonakshi Dixit       1\n",
      "1       9     Shital Garg       4\n",
      "2      10     Swara Joshi       5\n",
      "3      11   Isha Deshmukh       2\n",
      "4      12      Swati Bose       7\n",
      "5      13     Asha Kapoor       6\n",
      "6      14    Nandini Shah       8\n"
     ]
    }
   ],
   "source": [
    "table_name='borrower'\n",
    "query=f\"SELECT *FROM {table_name};\"\n",
    "cursor.execute(query)\n",
    "rows=cursor.fetchall()\n",
    "columns=[desc[0] for desc in cursor.description]\n",
    "df=pd.DataFrame(rows,columns=columns)\n",
    "print(df)"
   ]
  },
  {
   "cell_type": "code",
   "execution_count": 25,
   "metadata": {},
   "outputs": [
    {
     "name": "stdout",
     "output_type": "stream",
     "text": [
      "   departmentid department_name  employee_id\n",
      "0             1      Production            1\n",
      "1             2           Sales            3\n",
      "2             3       Marketing            4\n",
      "3             4        Accounts            5\n",
      "4             5     Development            7\n",
      "5             6              HR            9\n",
      "6             7           Sales           10\n"
     ]
    }
   ],
   "source": [
    "table_name='department'\n",
    "query=f\"SELECT *FROM {table_name};\"\n",
    "cursor.execute(query)\n",
    "rows=cursor.fetchall()\n",
    "columns=[desc[0] for desc in cursor.description]\n",
    "df=pd.DataFrame(rows,columns=columns)\n",
    "print(df)"
   ]
  },
  {
   "cell_type": "code",
   "execution_count": 26,
   "metadata": {},
   "outputs": [
    {
     "name": "stdout",
     "output_type": "stream",
     "text": [
      "   payment_id       pdate  staff_id  amount\n",
      "0         101  2009-12-30         1    3000\n",
      "1         102  2010-02-22         3    2500\n",
      "2         103  2010-02-23         4    3500\n"
     ]
    }
   ],
   "source": [
    "table_name='payment'\n",
    "query=f\"SELECT *FROM {table_name};\"\n",
    "cursor.execute(query)\n",
    "rows=cursor.fetchall()\n",
    "columns=[desc[0] for desc in cursor.description]\n",
    "df=pd.DataFrame(rows,columns=columns)\n",
    "print(df)"
   ]
  },
  {
   "cell_type": "code",
   "execution_count": 27,
   "metadata": {},
   "outputs": [
    {
     "name": "stdout",
     "output_type": "stream",
     "text": [
      "Values inserted successfully into 'emp1' table.\n",
      "\n",
      "Contents of 'emp1' table:\n",
      "(1, 'John Doe', 'Manager', Decimal('75000.00'), datetime.date(2020, 1, 15))\n",
      "(2, 'Jane Smith', 'Developer', Decimal('60000.00'), datetime.date(2021, 3, 22))\n",
      "(3, 'Sam Wilson', 'Designer', Decimal('55000.00'), datetime.date(2019, 8, 10))\n",
      "(4, 'John Doe', 'Manager', Decimal('75000.00'), datetime.date(2020, 1, 15))\n",
      "(5, 'Jane Smith', 'Developer', Decimal('60000.00'), datetime.date(2021, 3, 22))\n",
      "(6, 'Sam Wilson', 'Designer', Decimal('55000.00'), datetime.date(2019, 8, 10))\n",
      "(7, 'Sharad Pandey', 'Manager', Decimal('85000.00'), datetime.date(2020, 1, 11))\n",
      "(8, 'Kaustav Roy', 'Developer', Decimal('70000.00'), datetime.date(2021, 3, 18))\n",
      "(9, 'Aarav Jain', 'Designer', Decimal('45000.00'), datetime.date(2019, 8, 12))\n",
      "(10, 'Sharad Pandey', 'Manager', Decimal('85000.00'), datetime.date(2020, 1, 11))\n",
      "(11, 'Kaustav Roy', 'Developer', Decimal('70000.00'), datetime.date(2021, 3, 18))\n",
      "(12, 'Aarav Jain', 'Designer', Decimal('45000.00'), datetime.date(2019, 8, 12))\n",
      "(13, 'Sharad Pandey', 'Manager', Decimal('85000.00'), datetime.date(2020, 1, 11))\n",
      "(14, 'Kaustav Roy', 'Developer', Decimal('70000.00'), datetime.date(2021, 3, 18))\n",
      "(15, 'Aarav Jain', 'Designer', Decimal('45000.00'), datetime.date(2019, 8, 12))\n",
      "(16, 'Sharad Pandey', 'Manager', Decimal('85000.00'), datetime.date(2020, 1, 11))\n",
      "(17, 'Kaustav Roy', 'Developer', Decimal('70000.00'), datetime.date(2021, 3, 18))\n",
      "(18, 'Aarav Jain', 'Designer', Decimal('45000.00'), datetime.date(2019, 8, 12))\n"
     ]
    }
   ],
   "source": [
    "import psycopg2\n",
    "\n",
    "try:\n",
    "    connection = psycopg2.connect(\n",
    "        host=\"localhost\",     \n",
    "        database=\"postgres\",   \n",
    "        user=\"postgres\",  \n",
    "        password=\"Sharad@2001\",  \n",
    "        port=\"5432\"\n",
    "    )\n",
    "\n",
    "    cursor = connection.cursor()\n",
    "\n",
    "   \n",
    "\n",
    "\n",
    "    insert_values_query = '''\n",
    "    INSERT INTO emp1 (name, position, salary, joining_date)\n",
    "    VALUES\n",
    "    ('Sharad Pandey', 'Manager', 85000, '2020-01-11'),\n",
    "    ('Kaustav Roy', 'Developer', 70000, '2021-03-18'),\n",
    "    ('Aarav Jain', 'Designer', 45000, '2019-08-12');\n",
    "    '''\n",
    "    cursor.execute(insert_values_query)\n",
    "    connection.commit()  \n",
    "\n",
    "    print(\"Values inserted successfully into 'emp1' table.\")\n",
    "\n",
    "    cursor.execute(\"SELECT * FROM emp1;\")\n",
    "    rows = cursor.fetchall()\n",
    "\n",
    "    print(\"\\nContents of 'emp1' table:\")\n",
    "    for row in rows:\n",
    "        print(row)\n",
    "\n",
    "except (Exception, psycopg2.Error) as error:\n",
    "    print(\"Error while working with PostgreSQL\", error)\n",
    "\n"
   ]
  },
  {
   "cell_type": "code",
   "execution_count": 28,
   "metadata": {},
   "outputs": [
    {
     "name": "stdout",
     "output_type": "stream",
     "text": [
      "    id           name   position    salary joining_date\n",
      "0    1       John Doe    Manager  75000.00   2020-01-15\n",
      "1    2     Jane Smith  Developer  60000.00   2021-03-22\n",
      "2    3     Sam Wilson   Designer  55000.00   2019-08-10\n",
      "3    4       John Doe    Manager  75000.00   2020-01-15\n",
      "4    5     Jane Smith  Developer  60000.00   2021-03-22\n",
      "5    6     Sam Wilson   Designer  55000.00   2019-08-10\n",
      "6    7  Sharad Pandey    Manager  85000.00   2020-01-11\n",
      "7    8    Kaustav Roy  Developer  70000.00   2021-03-18\n",
      "8    9     Aarav Jain   Designer  45000.00   2019-08-12\n",
      "9   10  Sharad Pandey    Manager  85000.00   2020-01-11\n",
      "10  11    Kaustav Roy  Developer  70000.00   2021-03-18\n",
      "11  12     Aarav Jain   Designer  45000.00   2019-08-12\n",
      "12  13  Sharad Pandey    Manager  85000.00   2020-01-11\n",
      "13  14    Kaustav Roy  Developer  70000.00   2021-03-18\n",
      "14  15     Aarav Jain   Designer  45000.00   2019-08-12\n",
      "15  16  Sharad Pandey    Manager  85000.00   2020-01-11\n",
      "16  17    Kaustav Roy  Developer  70000.00   2021-03-18\n",
      "17  18     Aarav Jain   Designer  45000.00   2019-08-12\n"
     ]
    }
   ],
   "source": [
    "table_name='emp1'\n",
    "query=f\"SELECT *FROM {table_name};\"\n",
    "cursor.execute(query)\n",
    "rows=cursor.fetchall()\n",
    "columns=[desc[0] for desc in cursor.description]\n",
    "df=pd.DataFrame(rows,columns=columns)\n",
    "print(df)"
   ]
  },
  {
   "cell_type": "code",
   "execution_count": 29,
   "metadata": {},
   "outputs": [
    {
     "ename": "DuplicateTable",
     "evalue": "relation \"office_branch\" already exists\n",
     "output_type": "error",
     "traceback": [
      "\u001b[1;31m---------------------------------------------------------------------------\u001b[0m",
      "\u001b[1;31mDuplicateTable\u001b[0m                            Traceback (most recent call last)",
      "Cell \u001b[1;32mIn[29], line 11\u001b[0m\n\u001b[0;32m      2\u001b[0m table_name\u001b[38;5;241m=\u001b[39m\u001b[38;5;124m'\u001b[39m\u001b[38;5;124moffice_Branch\u001b[39m\u001b[38;5;124m'\u001b[39m\n\u001b[0;32m      3\u001b[0m query\u001b[38;5;241m=\u001b[39m\u001b[38;5;124mf\u001b[39m\u001b[38;5;124m'''\u001b[39m\u001b[38;5;124mCREATE TABLE \u001b[39m\u001b[38;5;132;01m{\u001b[39;00mtable_name\u001b[38;5;132;01m}\u001b[39;00m\n\u001b[0;32m      4\u001b[0m \u001b[38;5;124m(\u001b[39m\n\u001b[0;32m      5\u001b[0m \u001b[38;5;124mOffice_Id INT PRIMARY KEY,\u001b[39m\n\u001b[1;32m   (...)\u001b[0m\n\u001b[0;32m      9\u001b[0m \u001b[38;5;124m)\u001b[39m\n\u001b[0;32m     10\u001b[0m \u001b[38;5;124m'''\u001b[39m\n\u001b[1;32m---> 11\u001b[0m \u001b[43mcursor\u001b[49m\u001b[38;5;241;43m.\u001b[39;49m\u001b[43mexecute\u001b[49m\u001b[43m(\u001b[49m\u001b[43mquery\u001b[49m\u001b[43m)\u001b[49m\n\u001b[0;32m     12\u001b[0m connection\u001b[38;5;241m.\u001b[39mcommit()\n",
      "\u001b[1;31mDuplicateTable\u001b[0m: relation \"office_branch\" already exists\n"
     ]
    }
   ],
   "source": [
    "cursor=connection.cursor()\n",
    "table_name='office_Branch'\n",
    "query=f'''CREATE TABLE {table_name}\n",
    "(\n",
    "Office_Id INT PRIMARY KEY,\n",
    "Office_Name VARCHAR(50),\n",
    "Office_Branch VARCHAR(50),\n",
    "Office_Location VARCHAR(50)\n",
    ")\n",
    "'''\n",
    "cursor.execute(query)\n",
    "connection.commit()"
   ]
  },
  {
   "cell_type": "code",
   "execution_count": 31,
   "metadata": {},
   "outputs": [
    {
     "name": "stdout",
     "output_type": "stream",
     "text": [
      "Values inserted successfully into 'office_Branch' table.\n",
      "\n",
      "Contents of 'office_Branch' table:\n",
      "(1, 'CIPL', 'sector-6', 'noida')\n"
     ]
    }
   ],
   "source": [
    "import psycopg2\n",
    "\n",
    "try:\n",
    "    \n",
    "    connection = psycopg2.connect(\n",
    "        host=\"localhost\",     \n",
    "        database=\"postgres\",   \n",
    "        user=\"postgres\",  \n",
    "        password=\"Sharad@2001\",  \n",
    "        port=\"5432\"\n",
    "    )\n",
    "\n",
    "    cursor = connection.cursor()\n",
    "\n",
    "    insert_query = '''INSERT INTO office_Branch(Office_Id, Office_Name, Office_Branch, Office_Location)\n",
    "    VALUES (1, 'CIPL', 'sector-6', 'noida')'''\n",
    "\n",
    "    cursor.execute(insert_query)\n",
    "    connection.commit()\n",
    "\n",
    "    print(\"Values inserted successfully into 'office_Branch' table.\")\n",
    "\n",
    "    cursor.execute(\"SELECT * FROM office_Branch;\")\n",
    "    rows = cursor.fetchall()\n",
    "\n",
    "    print(\"\\nContents of 'office_Branch' table:\")\n",
    "    for row in rows:\n",
    "        print(row)\n",
    "\n",
    "except (Exception, psycopg2.Error) as error:\n",
    "    print(\"Error while working with PostgreSQL\", error)\n",
    "\n"
   ]
  },
  {
   "cell_type": "code",
   "execution_count": null,
   "metadata": {},
   "outputs": [],
   "source": []
  }
 ],
 "metadata": {
  "kernelspec": {
   "display_name": "Python 3",
   "language": "python",
   "name": "python3"
  },
  "language_info": {
   "codemirror_mode": {
    "name": "ipython",
    "version": 3
   },
   "file_extension": ".py",
   "mimetype": "text/x-python",
   "name": "python",
   "nbconvert_exporter": "python",
   "pygments_lexer": "ipython3",
   "version": "3.12.4"
  }
 },
 "nbformat": 4,
 "nbformat_minor": 2
}
